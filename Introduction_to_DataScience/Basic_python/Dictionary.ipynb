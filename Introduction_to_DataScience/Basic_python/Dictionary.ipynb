{
 "cells": [
  {
   "cell_type": "code",
   "execution_count": 1,
   "metadata": {},
   "outputs": [],
   "source": [
    "dict1={'Ramesh':[150,46],'Suresh':[146,58],'Sudesh':[160,50]}"
   ]
  },
  {
   "cell_type": "code",
   "execution_count": 2,
   "metadata": {},
   "outputs": [
    {
     "data": {
      "text/plain": [
       "[150, 46]"
      ]
     },
     "execution_count": 2,
     "metadata": {},
     "output_type": "execute_result"
    }
   ],
   "source": [
    "dict1['Ramesh']"
   ]
  },
  {
   "cell_type": "code",
   "execution_count": 3,
   "metadata": {},
   "outputs": [
    {
     "data": {
      "text/plain": [
       "[146, 58]"
      ]
     },
     "execution_count": 3,
     "metadata": {},
     "output_type": "execute_result"
    }
   ],
   "source": [
    "dict1['Suresh']"
   ]
  },
  {
   "cell_type": "code",
   "execution_count": 4,
   "metadata": {},
   "outputs": [
    {
     "data": {
      "text/plain": [
       "[160, 50]"
      ]
     },
     "execution_count": 4,
     "metadata": {},
     "output_type": "execute_result"
    }
   ],
   "source": [
    "dict1['Sudesh']"
   ]
  },
  {
   "cell_type": "markdown",
   "metadata": {},
   "source": [
    "# Adding Elements to the Dictionary"
   ]
  },
  {
   "cell_type": "code",
   "execution_count": 7,
   "metadata": {},
   "outputs": [],
   "source": [
    "dict1['Neeraj']=[42,68]"
   ]
  },
  {
   "cell_type": "code",
   "execution_count": 8,
   "metadata": {},
   "outputs": [
    {
     "data": {
      "text/plain": [
       "{'Ramesh': [150, 46],\n",
       " 'Suresh': [146, 58],\n",
       " 'Sudesh': [160, 50],\n",
       " 'Neeraj': [42, 68]}"
      ]
     },
     "execution_count": 8,
     "metadata": {},
     "output_type": "execute_result"
    }
   ],
   "source": [
    "dict1"
   ]
  },
  {
   "cell_type": "code",
   "execution_count": 9,
   "metadata": {},
   "outputs": [],
   "source": [
    "dict1[\"jaydeep\"]=[98,94]"
   ]
  },
  {
   "cell_type": "code",
   "execution_count": 10,
   "metadata": {},
   "outputs": [
    {
     "data": {
      "text/plain": [
       "{'Ramesh': [150, 46],\n",
       " 'Suresh': [146, 58],\n",
       " 'Sudesh': [160, 50],\n",
       " 'Neeraj': [42, 68],\n",
       " 'jaydeep': [98, 94]}"
      ]
     },
     "execution_count": 10,
     "metadata": {},
     "output_type": "execute_result"
    }
   ],
   "source": [
    "dict1"
   ]
  },
  {
   "cell_type": "code",
   "execution_count": 11,
   "metadata": {},
   "outputs": [],
   "source": [
    "dict1['Sonali']=[98,95]"
   ]
  },
  {
   "cell_type": "code",
   "execution_count": 12,
   "metadata": {},
   "outputs": [
    {
     "data": {
      "text/plain": [
       "{'Ramesh': [150, 46],\n",
       " 'Suresh': [146, 58],\n",
       " 'Sudesh': [160, 50],\n",
       " 'Neeraj': [42, 68],\n",
       " 'jaydeep': [98, 94],\n",
       " 'Sonali': [98, 95]}"
      ]
     },
     "execution_count": 12,
     "metadata": {},
     "output_type": "execute_result"
    }
   ],
   "source": [
    "dict1"
   ]
  },
  {
   "cell_type": "code",
   "execution_count": 13,
   "metadata": {},
   "outputs": [],
   "source": [
    "dict1['Aditya']=[99,92]"
   ]
  },
  {
   "cell_type": "code",
   "execution_count": 14,
   "metadata": {},
   "outputs": [
    {
     "data": {
      "text/plain": [
       "{'Ramesh': [150, 46],\n",
       " 'Suresh': [146, 58],\n",
       " 'Sudesh': [160, 50],\n",
       " 'Neeraj': [42, 68],\n",
       " 'jaydeep': [98, 94],\n",
       " 'Sonali': [98, 95],\n",
       " 'Aditya': [99, 92]}"
      ]
     },
     "execution_count": 14,
     "metadata": {},
     "output_type": "execute_result"
    }
   ],
   "source": [
    "dict1"
   ]
  },
  {
   "cell_type": "code",
   "execution_count": 15,
   "metadata": {},
   "outputs": [],
   "source": [
    "dict1['Ayush']=[86,98]"
   ]
  },
  {
   "cell_type": "code",
   "execution_count": 16,
   "metadata": {},
   "outputs": [
    {
     "data": {
      "text/plain": [
       "{'Ramesh': [150, 46],\n",
       " 'Suresh': [146, 58],\n",
       " 'Sudesh': [160, 50],\n",
       " 'Neeraj': [42, 68],\n",
       " 'jaydeep': [98, 94],\n",
       " 'Sonali': [98, 95],\n",
       " 'Aditya': [99, 92],\n",
       " 'Ayush': [86, 98]}"
      ]
     },
     "execution_count": 16,
     "metadata": {},
     "output_type": "execute_result"
    }
   ],
   "source": [
    "dict1"
   ]
  },
  {
   "cell_type": "code",
   "execution_count": 17,
   "metadata": {},
   "outputs": [],
   "source": [
    "dict1['Arun']=[98,82]"
   ]
  },
  {
   "cell_type": "code",
   "execution_count": 18,
   "metadata": {},
   "outputs": [
    {
     "data": {
      "text/plain": [
       "{'Ramesh': [150, 46],\n",
       " 'Suresh': [146, 58],\n",
       " 'Sudesh': [160, 50],\n",
       " 'Neeraj': [42, 68],\n",
       " 'jaydeep': [98, 94],\n",
       " 'Sonali': [98, 95],\n",
       " 'Aditya': [99, 92],\n",
       " 'Ayush': [86, 98],\n",
       " 'Arun': [98, 82]}"
      ]
     },
     "execution_count": 18,
     "metadata": {},
     "output_type": "execute_result"
    }
   ],
   "source": [
    "dict1"
   ]
  },
  {
   "cell_type": "code",
   "execution_count": 19,
   "metadata": {},
   "outputs": [],
   "source": [
    "dict1['Aham']=[56,75]"
   ]
  },
  {
   "cell_type": "code",
   "execution_count": 20,
   "metadata": {},
   "outputs": [
    {
     "data": {
      "text/plain": [
       "{'Ramesh': [150, 46],\n",
       " 'Suresh': [146, 58],\n",
       " 'Sudesh': [160, 50],\n",
       " 'Neeraj': [42, 68],\n",
       " 'jaydeep': [98, 94],\n",
       " 'Sonali': [98, 95],\n",
       " 'Aditya': [99, 92],\n",
       " 'Ayush': [86, 98],\n",
       " 'Arun': [98, 82],\n",
       " 'Aham': [56, 75]}"
      ]
     },
     "execution_count": 20,
     "metadata": {},
     "output_type": "execute_result"
    }
   ],
   "source": [
    "dict1"
   ]
  },
  {
   "cell_type": "code",
   "execution_count": 21,
   "metadata": {},
   "outputs": [],
   "source": [
    "dict1.update({'Sunil':[56,47],'Disha':[85,45]})"
   ]
  },
  {
   "cell_type": "code",
   "execution_count": 22,
   "metadata": {},
   "outputs": [
    {
     "data": {
      "text/plain": [
       "{'Ramesh': [150, 46],\n",
       " 'Suresh': [146, 58],\n",
       " 'Sudesh': [160, 50],\n",
       " 'Neeraj': [42, 68],\n",
       " 'jaydeep': [98, 94],\n",
       " 'Sonali': [98, 95],\n",
       " 'Aditya': [99, 92],\n",
       " 'Ayush': [86, 98],\n",
       " 'Arun': [98, 82],\n",
       " 'Aham': [56, 75],\n",
       " 'Sunil': [56, 47],\n",
       " 'Disha': [85, 45]}"
      ]
     },
     "execution_count": 22,
     "metadata": {},
     "output_type": "execute_result"
    }
   ],
   "source": [
    "dict1"
   ]
  },
  {
   "cell_type": "code",
   "execution_count": 23,
   "metadata": {},
   "outputs": [],
   "source": [
    "dict1['PIyush']=[56,67]"
   ]
  },
  {
   "cell_type": "code",
   "execution_count": 24,
   "metadata": {},
   "outputs": [
    {
     "data": {
      "text/plain": [
       "{'Ramesh': [150, 46],\n",
       " 'Suresh': [146, 58],\n",
       " 'Sudesh': [160, 50],\n",
       " 'Neeraj': [42, 68],\n",
       " 'jaydeep': [98, 94],\n",
       " 'Sonali': [98, 95],\n",
       " 'Aditya': [99, 92],\n",
       " 'Ayush': [86, 98],\n",
       " 'Arun': [98, 82],\n",
       " 'Aham': [56, 75],\n",
       " 'Sunil': [56, 47],\n",
       " 'Disha': [85, 45],\n",
       " 'PIyush': [56, 67]}"
      ]
     },
     "execution_count": 24,
     "metadata": {},
     "output_type": "execute_result"
    }
   ],
   "source": [
    "dict1"
   ]
  },
  {
   "cell_type": "code",
   "execution_count": 25,
   "metadata": {},
   "outputs": [],
   "source": [
    "del dict1['Sonali']"
   ]
  },
  {
   "cell_type": "code",
   "execution_count": 26,
   "metadata": {},
   "outputs": [
    {
     "data": {
      "text/plain": [
       "{'Ramesh': [150, 46],\n",
       " 'Suresh': [146, 58],\n",
       " 'Sudesh': [160, 50],\n",
       " 'Neeraj': [42, 68],\n",
       " 'jaydeep': [98, 94],\n",
       " 'Aditya': [99, 92],\n",
       " 'Ayush': [86, 98],\n",
       " 'Arun': [98, 82],\n",
       " 'Aham': [56, 75],\n",
       " 'Sunil': [56, 47],\n",
       " 'Disha': [85, 45],\n",
       " 'PIyush': [56, 67]}"
      ]
     },
     "execution_count": 26,
     "metadata": {},
     "output_type": "execute_result"
    }
   ],
   "source": [
    "dict1"
   ]
  },
  {
   "cell_type": "code",
   "execution_count": 27,
   "metadata": {},
   "outputs": [],
   "source": [
    "del dict1['jaydeep']"
   ]
  },
  {
   "cell_type": "code",
   "execution_count": 29,
   "metadata": {},
   "outputs": [
    {
     "data": {
      "text/plain": [
       "{'Ramesh': [150, 46],\n",
       " 'Suresh': [146, 58],\n",
       " 'Sudesh': [160, 50],\n",
       " 'Neeraj': [42, 68],\n",
       " 'Aditya': [99, 92],\n",
       " 'Ayush': [86, 98],\n",
       " 'Arun': [98, 82],\n",
       " 'Aham': [56, 75],\n",
       " 'Sunil': [56, 47],\n",
       " 'Disha': [85, 45],\n",
       " 'PIyush': [56, 67]}"
      ]
     },
     "execution_count": 29,
     "metadata": {},
     "output_type": "execute_result"
    }
   ],
   "source": [
    "dict1"
   ]
  },
  {
   "cell_type": "code",
   "execution_count": 30,
   "metadata": {},
   "outputs": [],
   "source": [
    "del dict1['Neeraj']"
   ]
  },
  {
   "cell_type": "code",
   "execution_count": 31,
   "metadata": {},
   "outputs": [
    {
     "data": {
      "text/plain": [
       "{'Ramesh': [150, 46],\n",
       " 'Suresh': [146, 58],\n",
       " 'Sudesh': [160, 50],\n",
       " 'Aditya': [99, 92],\n",
       " 'Ayush': [86, 98],\n",
       " 'Arun': [98, 82],\n",
       " 'Aham': [56, 75],\n",
       " 'Sunil': [56, 47],\n",
       " 'Disha': [85, 45],\n",
       " 'PIyush': [56, 67]}"
      ]
     },
     "execution_count": 31,
     "metadata": {},
     "output_type": "execute_result"
    }
   ],
   "source": [
    "dict1"
   ]
  },
  {
   "cell_type": "code",
   "execution_count": 32,
   "metadata": {},
   "outputs": [],
   "source": [
    "del dict1['Ramesh']"
   ]
  },
  {
   "cell_type": "code",
   "execution_count": 33,
   "metadata": {},
   "outputs": [
    {
     "data": {
      "text/plain": [
       "{'Suresh': [146, 58],\n",
       " 'Sudesh': [160, 50],\n",
       " 'Aditya': [99, 92],\n",
       " 'Ayush': [86, 98],\n",
       " 'Arun': [98, 82],\n",
       " 'Aham': [56, 75],\n",
       " 'Sunil': [56, 47],\n",
       " 'Disha': [85, 45],\n",
       " 'PIyush': [56, 67]}"
      ]
     },
     "execution_count": 33,
     "metadata": {},
     "output_type": "execute_result"
    }
   ],
   "source": [
    "dict1"
   ]
  },
  {
   "cell_type": "code",
   "execution_count": 34,
   "metadata": {},
   "outputs": [],
   "source": [
    "del dict1['Ayush']"
   ]
  },
  {
   "cell_type": "code",
   "execution_count": 35,
   "metadata": {},
   "outputs": [
    {
     "data": {
      "text/plain": [
       "{'Suresh': [146, 58],\n",
       " 'Sudesh': [160, 50],\n",
       " 'Aditya': [99, 92],\n",
       " 'Arun': [98, 82],\n",
       " 'Aham': [56, 75],\n",
       " 'Sunil': [56, 47],\n",
       " 'Disha': [85, 45],\n",
       " 'PIyush': [56, 67]}"
      ]
     },
     "execution_count": 35,
     "metadata": {},
     "output_type": "execute_result"
    }
   ],
   "source": [
    "dict1"
   ]
  },
  {
   "cell_type": "code",
   "execution_count": 36,
   "metadata": {},
   "outputs": [],
   "source": [
    "del dict1['Suresh']"
   ]
  },
  {
   "cell_type": "code",
   "execution_count": 37,
   "metadata": {},
   "outputs": [
    {
     "data": {
      "text/plain": [
       "{'Sudesh': [160, 50],\n",
       " 'Aditya': [99, 92],\n",
       " 'Arun': [98, 82],\n",
       " 'Aham': [56, 75],\n",
       " 'Sunil': [56, 47],\n",
       " 'Disha': [85, 45],\n",
       " 'PIyush': [56, 67]}"
      ]
     },
     "execution_count": 37,
     "metadata": {},
     "output_type": "execute_result"
    }
   ],
   "source": [
    "dict1"
   ]
  },
  {
   "cell_type": "code",
   "execution_count": 38,
   "metadata": {},
   "outputs": [],
   "source": [
    "del dict1['Sudesh']"
   ]
  },
  {
   "cell_type": "code",
   "execution_count": 39,
   "metadata": {},
   "outputs": [
    {
     "data": {
      "text/plain": [
       "{'Aditya': [99, 92],\n",
       " 'Arun': [98, 82],\n",
       " 'Aham': [56, 75],\n",
       " 'Sunil': [56, 47],\n",
       " 'Disha': [85, 45],\n",
       " 'PIyush': [56, 67]}"
      ]
     },
     "execution_count": 39,
     "metadata": {},
     "output_type": "execute_result"
    }
   ],
   "source": [
    "dict1"
   ]
  },
  {
   "cell_type": "code",
   "execution_count": 40,
   "metadata": {},
   "outputs": [],
   "source": [
    "del dict1['Aditya']"
   ]
  },
  {
   "cell_type": "code",
   "execution_count": 41,
   "metadata": {},
   "outputs": [
    {
     "data": {
      "text/plain": [
       "{'Arun': [98, 82],\n",
       " 'Aham': [56, 75],\n",
       " 'Sunil': [56, 47],\n",
       " 'Disha': [85, 45],\n",
       " 'PIyush': [56, 67]}"
      ]
     },
     "execution_count": 41,
     "metadata": {},
     "output_type": "execute_result"
    }
   ],
   "source": [
    "dict1"
   ]
  },
  {
   "cell_type": "code",
   "execution_count": 42,
   "metadata": {},
   "outputs": [],
   "source": [
    "del dict1['Arun']"
   ]
  },
  {
   "cell_type": "code",
   "execution_count": 43,
   "metadata": {},
   "outputs": [
    {
     "data": {
      "text/plain": [
       "{'Aham': [56, 75], 'Sunil': [56, 47], 'Disha': [85, 45], 'PIyush': [56, 67]}"
      ]
     },
     "execution_count": 43,
     "metadata": {},
     "output_type": "execute_result"
    }
   ],
   "source": [
    "dict1"
   ]
  },
  {
   "cell_type": "code",
   "execution_count": 44,
   "metadata": {},
   "outputs": [],
   "source": [
    "del dict1['Aham']"
   ]
  },
  {
   "cell_type": "code",
   "execution_count": 45,
   "metadata": {},
   "outputs": [
    {
     "data": {
      "text/plain": [
       "{'Sunil': [56, 47], 'Disha': [85, 45], 'PIyush': [56, 67]}"
      ]
     },
     "execution_count": 45,
     "metadata": {},
     "output_type": "execute_result"
    }
   ],
   "source": [
    "dict1"
   ]
  },
  {
   "cell_type": "code",
   "execution_count": 46,
   "metadata": {},
   "outputs": [],
   "source": [
    "del dict1['Disha']"
   ]
  },
  {
   "cell_type": "code",
   "execution_count": 47,
   "metadata": {},
   "outputs": [
    {
     "data": {
      "text/plain": [
       "{'Sunil': [56, 47], 'PIyush': [56, 67]}"
      ]
     },
     "execution_count": 47,
     "metadata": {},
     "output_type": "execute_result"
    }
   ],
   "source": [
    "dict1"
   ]
  },
  {
   "cell_type": "code",
   "execution_count": null,
   "metadata": {},
   "outputs": [],
   "source": []
  }
 ],
 "metadata": {
  "kernelspec": {
   "display_name": "Python 3",
   "language": "python",
   "name": "python3"
  },
  "language_info": {
   "codemirror_mode": {
    "name": "ipython",
    "version": 3
   },
   "file_extension": ".py",
   "mimetype": "text/x-python",
   "name": "python",
   "nbconvert_exporter": "python",
   "pygments_lexer": "ipython3",
   "version": "3.7.3"
  }
 },
 "nbformat": 4,
 "nbformat_minor": 2
}
